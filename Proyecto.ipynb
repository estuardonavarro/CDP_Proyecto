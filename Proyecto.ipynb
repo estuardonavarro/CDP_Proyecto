{
 "cells": [
  {
   "cell_type": "markdown",
   "metadata": {
    "collapsed": true,
    "pycharm": {
     "name": "#%% md\n"
    }
   },
   "source": [
    "<img src=\"https://www.galileo.edu/wp-content/uploads/2010/12/logo-ug.png\" width=\"200px\">\n",
    "<h3>Instituto de Investigación de operaciones</h3>\n",
    "<h3>Posgrado en Análisis y Predicción de Datos</h3>\n",
    "<h3><b>Ciencia de Datos con Python</b></h3>\n",
    "<h4><b>Profesor: Ing. Preng Biba</b></h4>\n",
    "\n",
    "<h4><b>Desarrollado por: Javier Navarro - 20015565</b></h4>\n"
   ]
  },
  {
   "cell_type": "markdown",
   "metadata": {},
   "source": [
    "<h1>Proyecto</h1>"
   ]
  },
  {
   "cell_type": "code",
   "execution_count": 2,
   "metadata": {
    "pycharm": {
     "name": "#%%\n"
    }
   },
   "outputs": [],
   "source": []
  }
 ],
 "metadata": {
  "kernelspec": {
   "display_name": "Python 3",
   "language": "python",
   "name": "python3"
  },
  "language_info": {
   "codemirror_mode": {
    "name": "ipython",
    "version": 3
   },
   "file_extension": ".py",
   "mimetype": "text/x-python",
   "name": "python",
   "nbconvert_exporter": "python",
   "pygments_lexer": "ipython3",
   "version": "3.8.5"
  }
 },
 "nbformat": 4,
 "nbformat_minor": 1
}