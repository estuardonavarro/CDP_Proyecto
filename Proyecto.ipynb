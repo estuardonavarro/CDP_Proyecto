{
 "cells": [
  {
   "cell_type": "markdown",
   "metadata": {
    "collapsed": true,
    "pycharm": {
     "name": "#%% md\n"
    }
   },
   "source": [
    "<img src=\"https://www.galileo.edu/wp-content/uploads/2010/12/logo-ug.png\" width=\"200px\">\n",
    "<h3>Instituto de Investigación de operaciones</h3>\n",
    "<h3>Posgrado en Análisis y Predicción de Datos</h3>\n",
    "<h3><b>Ciencia de Datos con Python</b></h3>\n",
    "<h4><b>Profesor: Ing. Preng Biba</b></h4>\n",
    "\n",
    "<h4><b>Desarrollado por: Javier Navarro - 20015565</b></h4>\n"
   ]
  },
  {
   "cell_type": "markdown",
   "metadata": {},
   "source": [
    "<h1>Proyecto</h1>"
   ]
  },
  {
   "cell_type": "markdown",
   "metadata": {
    "pycharm": {
     "name": "#%% md\n"
    }
   },
   "source": [
    "## 1. Crear un entorno de anaconda con los paquetes que considere necesarios.\n",
    "Tras haber creado el entorno en anaconda instalando los modulos necesarios, procedemos a importar las librerias\n",
    "autorizadas para el proyecto"
   ]
  },
  {
   "cell_type": "code",
   "execution_count": 14,
   "outputs": [],
   "source": [
    "import seaborn as sb\n",
    "import sklearn as sc\n",
    "import numpy as np\n",
    "import pandas as pd\n",
    "from matplotlib import pyplot as plt\n",
    "from sklearn.linear_model import LinearRegression"
   ],
   "metadata": {
    "collapsed": false,
    "pycharm": {
     "name": "#%%\n"
    }
   }
  },
  {
   "cell_type": "markdown",
   "source": [
    "## 2. Usando sclicing con NumPy separar los datos en 2 datasets: entrenamiento (80%) y validación y pruebas (20 %).\n"
   ],
   "metadata": {
    "collapsed": false
   }
  },
  {
   "cell_type": "code",
   "execution_count": 18,
   "outputs": [],
   "source": [
    "# Cargamos el arreglo que se encuentra en formato binario de numpy a un arreglo ordinario de numpy\n",
    "data = np.load(\"proyecto_data/proyecto_training_data.npy\")\n",
    "# Luego vamos a definir cual es el equivalente en cantidad de filas al 80% y 20% de datos respectivamente\n",
    "data_count = len(data)\n",
    "train_data_count = int(data_count * 0.8)\n",
    "test_data_count = int(data_count * 0.2)\n",
    "train_data = data[:train_data_count]\n",
    "test_data = data[:test_data_count]"
   ],
   "metadata": {
    "collapsed": false,
    "pycharm": {
     "name": "#%%\n"
    }
   }
  },
  {
   "cell_type": "markdown",
   "source": [
    "## 3. Análisis exploratorio de datos: para cada variable en el dataset calcular:\n",
    "- media\n",
    "- valor máximo\n",
    "- valor mínimo\n",
    "- rango\n",
    "- desviación estándar"
   ],
   "metadata": {
    "collapsed": false
   }
  },
  {
   "cell_type": "code",
   "execution_count": 35,
   "outputs": [
    {
     "name": "stdout",
     "output_type": "stream",
     "text": [
      "Realizando análisis exploratorio para las variables\n",
      "-------- SalePrice --------\n",
      "Media\t180921.19589041095\n",
      "Max\t755000.0\n",
      "Min\t34900.0\n",
      "Rango\t720100.0\n",
      "DesEst\t79415.29188606751\n",
      "\n",
      "-------- OverallQual --------\n",
      "Media\t6.0993150684931505\n",
      "Max\t10.0\n",
      "Min\t1.0\n",
      "Rango\t9.0\n",
      "DesEst\t1.3825228366585953\n",
      "\n",
      "-------- FstFlrSF --------\n",
      "Media\t1162.626712328767\n",
      "Max\t4692.0\n",
      "Min\t334.0\n",
      "Rango\t4358.0\n",
      "DesEst\t386.45532230228963\n",
      "\n",
      "-------- TotRmsAbvGrd --------\n",
      "Media\t6.517808219178082\n",
      "Max\t14.0\n",
      "Min\t2.0\n",
      "Rango\t12.0\n",
      "DesEst\t1.624836553698191\n",
      "\n",
      "-------- YearBuilt --------\n",
      "Media\t1971.267808219178\n",
      "Max\t2010.0\n",
      "Min\t1872.0\n",
      "Rango\t138.0\n",
      "DesEst\t30.192558810489448\n",
      "\n",
      "-------- LotFrontage --------\n",
      "Media\t70.04995836802665\n",
      "Max\t313.0\n",
      "Min\t21.0\n",
      "Rango\tnan\n",
      "DesEst\t24.27463944767604\n",
      "\n"
     ]
    }
   ],
   "source": [
    "def pretty(d, indent=0):\n",
    "    \"\"\"\n",
    "    Para imprimir el diccionario bonito.\n",
    "    :param d: diccionario\n",
    "    :param indent: indentación inicial\n",
    "    :return: cadena de texto con diccionario enbellecido\n",
    "    \"\"\"\n",
    "    result = ''\n",
    "    for key, value in d.items():\n",
    "        result += '\\t' * indent + str(key)\n",
    "        if isinstance(value, dict):\n",
    "            result += '\\n' + pretty(value, indent + 1) + '\\n'\n",
    "        else:\n",
    "            result += '\\t' * (indent + 1) + str(value) + '\\n'\n",
    "    return result\n",
    "\n",
    "def exploratory_analysis(nombre):\n",
    "    \"\"\"\n",
    "    Para realizar analisis exploratorio a una variable\n",
    "    :param nombre: nombre de la variable\n",
    "    :return: diccionario con los campos solicitados\n",
    "    \"\"\"\n",
    "    return {\n",
    "        'Media': np.mean(df[nombre]),\n",
    "        'Max': np.max(df[nombre]),\n",
    "        'Min': np.min(df[nombre]),\n",
    "        'Rango': np.ptp(df[nombre], axis = 0),\n",
    "        'DesEst': np.std(df[nombre])\n",
    "    }\n",
    "\n",
    "\n",
    "columns = ['SalePrice','OverallQual','FstFlrSF','TotRmsAbvGrd','YearBuilt','LotFrontage']\n",
    "df = pd.DataFrame(data = data, columns = columns)\n",
    "print('Realizando análisis exploratorio para las variables')\n",
    "for c in columns:\n",
    "    print('-------- ' + c + ' --------')\n",
    "    print(pretty(exploratory_analysis(c)))"
   ],
   "metadata": {
    "collapsed": false,
    "pycharm": {
     "name": "#%%\n"
    }
   }
  },
  {
   "cell_type": "code",
   "execution_count": null,
   "outputs": [],
   "source": [],
   "metadata": {
    "collapsed": false,
    "pycharm": {
     "name": "#%%\n"
    }
   }
  }
 ],
 "metadata": {
  "kernelspec": {
   "display_name": "Python 3",
   "language": "python",
   "name": "python3"
  },
  "language_info": {
   "codemirror_mode": {
    "name": "ipython",
    "version": 3
   },
   "file_extension": ".py",
   "mimetype": "text/x-python",
   "name": "python",
   "nbconvert_exporter": "python",
   "pygments_lexer": "ipython3",
   "version": "3.8.5"
  }
 },
 "nbformat": 4,
 "nbformat_minor": 1
}