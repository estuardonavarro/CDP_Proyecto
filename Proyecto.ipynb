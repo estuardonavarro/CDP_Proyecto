{
 "cells": [
  {
   "cell_type": "markdown",
   "metadata": {
    "collapsed": true,
    "pycharm": {
     "name": "#%% md\n"
    }
   },
   "source": [
    "<img src=\"https://www.galileo.edu/wp-content/uploads/2010/12/logo-ug.png\" width=\"200px\">\n",
    "<h3>Instituto de Investigación de operaciones</h3>\n",
    "<h3>Posgrado en Análisis y Predicción de Datos</h3>\n",
    "<h3><b>Ciencia de Datos con Python</b></h3>\n",
    "<h4><b>Profesor: Ing. Preng Biba</b></h4>\n",
    "\n",
    "<h4><b>Desarrollado por: Javier Navarro - 20015565</b></h4>\n"
   ]
  },
  {
   "cell_type": "markdown",
   "metadata": {},
   "source": [
    "<h1>Proyecto</h1>"
   ]
  },
  {
   "cell_type": "markdown",
   "metadata": {
    "pycharm": {
     "name": "#%% md\n"
    }
   },
   "source": [
    "## 1. Crear un entorno de anaconda con los paquetes que considere necesarios.\n",
    "Tras haber creado el entorno en anaconda instalando los modulos necesarios, procedemos a importar las librerias\n",
    "autorizadas para el proyecto"
   ]
  },
  {
   "cell_type": "code",
   "execution_count": 14,
   "outputs": [],
   "source": [
    "import seaborn as sb\n",
    "import sklearn as sc\n",
    "import numpy as np\n",
    "import pandas as pd\n",
    "from matplotlib import pyplot as plt\n",
    "from sklearn.linear_model import LinearRegression"
   ],
   "metadata": {
    "collapsed": false,
    "pycharm": {
     "name": "#%%\n"
    }
   }
  },
  {
   "cell_type": "markdown",
   "source": [
    "## 2. Usando sclicing con NumPy separar los datos en 2 datasets: entrenamiento (80%) y validación y pruebas (20 %).\n"
   ],
   "metadata": {
    "collapsed": false
   }
  },
  {
   "cell_type": "code",
   "execution_count": 16,
   "outputs": [],
   "source": [
    "# Cargamos el arreglo que se encuentra en formato binario de numpy a un arreglo ordinario de numpy\n",
    "data = np.load(\"proyecto_data/proyecto_training_data.npy\")\n",
    "# Luego vamos a definir cual es el equivalente en cantidad de filas al 80% y 20% de datos respectivamente\n",
    "data_count = len(data)\n",
    "train_data_count = int(data_count * 0.8)\n",
    "test_data_count = int(data_count * 0.2)\n",
    "train_data = data[:train_data_count]\n",
    "test_data = data[:test_data_count]\n",
    "\n",
    "\n"
   ],
   "metadata": {
    "collapsed": false,
    "pycharm": {
     "name": "#%%\n"
    }
   }
  }
 ],
 "metadata": {
  "kernelspec": {
   "display_name": "Python 3",
   "language": "python",
   "name": "python3"
  },
  "language_info": {
   "codemirror_mode": {
    "name": "ipython",
    "version": 3
   },
   "file_extension": ".py",
   "mimetype": "text/x-python",
   "name": "python",
   "nbconvert_exporter": "python",
   "pygments_lexer": "ipython3",
   "version": "3.8.5"
  }
 },
 "nbformat": 4,
 "nbformat_minor": 1
}